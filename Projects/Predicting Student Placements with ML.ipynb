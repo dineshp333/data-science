{
 "cells": [
  {
   "cell_type": "markdown",
   "id": "959e8e1a",
   "metadata": {},
   "source": [
    "COLLEGE PLACEMENT PREDICTION USING ML "
   ]
  },
  {
   "cell_type": "code",
   "execution_count": 1,
   "id": "e02573bf",
   "metadata": {},
   "outputs": [],
   "source": [
    "import pandas as pd\n",
    "import numpy as np"
   ]
  },
  {
   "cell_type": "markdown",
   "id": "91005c70",
   "metadata": {},
   "source": [
    "LOAD DATASET"
   ]
  },
  {
   "cell_type": "code",
   "execution_count": 2,
   "id": "071fcb02",
   "metadata": {},
   "outputs": [
    {
     "name": "stderr",
     "output_type": "stream",
     "text": [
      "<>:1: SyntaxWarning: invalid escape sequence '\\D'\n",
      "<>:1: SyntaxWarning: invalid escape sequence '\\D'\n",
      "C:\\Users\\dines\\AppData\\Local\\Temp\\ipykernel_27556\\4028012568.py:1: SyntaxWarning: invalid escape sequence '\\D'\n",
      "  df=pd.read_csv(\"D:\\Data Science With Python\\dataset\\Logistic dataset\\college_student_placement_dataset.csv\")\n"
     ]
    }
   ],
   "source": [
    "df=pd.read_csv(\"D:\\Data Science With Python\\dataset\\Logistic dataset\\college_student_placement_dataset.csv\")"
   ]
  },
  {
   "cell_type": "markdown",
   "id": "6f3cbd99",
   "metadata": {},
   "source": [
    "FEATURE ENGINEERING"
   ]
  },
  {
   "cell_type": "code",
   "execution_count": 3,
   "id": "9b0090c0",
   "metadata": {},
   "outputs": [
    {
     "data": {
      "text/html": [
       "<div>\n",
       "<style scoped>\n",
       "    .dataframe tbody tr th:only-of-type {\n",
       "        vertical-align: middle;\n",
       "    }\n",
       "\n",
       "    .dataframe tbody tr th {\n",
       "        vertical-align: top;\n",
       "    }\n",
       "\n",
       "    .dataframe thead th {\n",
       "        text-align: right;\n",
       "    }\n",
       "</style>\n",
       "<table border=\"1\" class=\"dataframe\">\n",
       "  <thead>\n",
       "    <tr style=\"text-align: right;\">\n",
       "      <th></th>\n",
       "      <th>College_ID</th>\n",
       "      <th>IQ</th>\n",
       "      <th>Prev_Sem_Result</th>\n",
       "      <th>CGPA</th>\n",
       "      <th>Academic_Performance</th>\n",
       "      <th>Internship_Experience</th>\n",
       "      <th>Extra_Curricular_Score</th>\n",
       "      <th>Communication_Skills</th>\n",
       "      <th>Projects_Completed</th>\n",
       "      <th>Placement</th>\n",
       "    </tr>\n",
       "  </thead>\n",
       "  <tbody>\n",
       "    <tr>\n",
       "      <th>0</th>\n",
       "      <td>CLG0030</td>\n",
       "      <td>107</td>\n",
       "      <td>6.61</td>\n",
       "      <td>6.28</td>\n",
       "      <td>8</td>\n",
       "      <td>No</td>\n",
       "      <td>8</td>\n",
       "      <td>8</td>\n",
       "      <td>4</td>\n",
       "      <td>No</td>\n",
       "    </tr>\n",
       "    <tr>\n",
       "      <th>1</th>\n",
       "      <td>CLG0061</td>\n",
       "      <td>97</td>\n",
       "      <td>5.52</td>\n",
       "      <td>5.37</td>\n",
       "      <td>8</td>\n",
       "      <td>No</td>\n",
       "      <td>7</td>\n",
       "      <td>8</td>\n",
       "      <td>0</td>\n",
       "      <td>No</td>\n",
       "    </tr>\n",
       "    <tr>\n",
       "      <th>2</th>\n",
       "      <td>CLG0036</td>\n",
       "      <td>109</td>\n",
       "      <td>5.36</td>\n",
       "      <td>5.83</td>\n",
       "      <td>9</td>\n",
       "      <td>No</td>\n",
       "      <td>3</td>\n",
       "      <td>1</td>\n",
       "      <td>1</td>\n",
       "      <td>No</td>\n",
       "    </tr>\n",
       "    <tr>\n",
       "      <th>3</th>\n",
       "      <td>CLG0055</td>\n",
       "      <td>122</td>\n",
       "      <td>5.47</td>\n",
       "      <td>5.75</td>\n",
       "      <td>1</td>\n",
       "      <td>6</td>\n",
       "      <td>1</td>\n",
       "      <td>No</td>\n",
       "      <td>NaN</td>\n",
       "      <td>NaN</td>\n",
       "    </tr>\n",
       "    <tr>\n",
       "      <th>4</th>\n",
       "      <td>CLG0004</td>\n",
       "      <td>96</td>\n",
       "      <td>7.91</td>\n",
       "      <td>7.69</td>\n",
       "      <td>7</td>\n",
       "      <td>No</td>\n",
       "      <td>8</td>\n",
       "      <td>10</td>\n",
       "      <td>2</td>\n",
       "      <td>No</td>\n",
       "    </tr>\n",
       "  </tbody>\n",
       "</table>\n",
       "</div>"
      ],
      "text/plain": [
       "  College_ID   IQ  Prev_Sem_Result  CGPA  Academic_Performance  \\\n",
       "0    CLG0030  107             6.61  6.28                     8   \n",
       "1    CLG0061   97             5.52  5.37                     8   \n",
       "2    CLG0036  109             5.36  5.83                     9   \n",
       "3    CLG0055  122             5.47  5.75                     1   \n",
       "4    CLG0004   96             7.91  7.69                     7   \n",
       "\n",
       "  Internship_Experience  Extra_Curricular_Score Communication_Skills  \\\n",
       "0                    No                       8                    8   \n",
       "1                    No                       7                    8   \n",
       "2                    No                       3                    1   \n",
       "3                     6                       1                   No   \n",
       "4                    No                       8                   10   \n",
       "\n",
       "  Projects_Completed Placement  \n",
       "0                  4        No  \n",
       "1                  0        No  \n",
       "2                  1        No  \n",
       "3                NaN       NaN  \n",
       "4                  2        No  "
      ]
     },
     "execution_count": 3,
     "metadata": {},
     "output_type": "execute_result"
    }
   ],
   "source": [
    "df.head(5)"
   ]
  },
  {
   "cell_type": "code",
   "execution_count": 4,
   "id": "b54d660b",
   "metadata": {},
   "outputs": [
    {
     "data": {
      "text/html": [
       "<div>\n",
       "<style scoped>\n",
       "    .dataframe tbody tr th:only-of-type {\n",
       "        vertical-align: middle;\n",
       "    }\n",
       "\n",
       "    .dataframe tbody tr th {\n",
       "        vertical-align: top;\n",
       "    }\n",
       "\n",
       "    .dataframe thead th {\n",
       "        text-align: right;\n",
       "    }\n",
       "</style>\n",
       "<table border=\"1\" class=\"dataframe\">\n",
       "  <thead>\n",
       "    <tr style=\"text-align: right;\">\n",
       "      <th></th>\n",
       "      <th>College_ID</th>\n",
       "      <th>IQ</th>\n",
       "      <th>Prev_Sem_Result</th>\n",
       "      <th>CGPA</th>\n",
       "      <th>Academic_Performance</th>\n",
       "      <th>Internship_Experience</th>\n",
       "      <th>Extra_Curricular_Score</th>\n",
       "      <th>Communication_Skills</th>\n",
       "      <th>Projects_Completed</th>\n",
       "      <th>Placement</th>\n",
       "    </tr>\n",
       "  </thead>\n",
       "  <tbody>\n",
       "    <tr>\n",
       "      <th>9995</th>\n",
       "      <td>CLG0021</td>\n",
       "      <td>119</td>\n",
       "      <td>8.41</td>\n",
       "      <td>8.29</td>\n",
       "      <td>4</td>\n",
       "      <td>No</td>\n",
       "      <td>1</td>\n",
       "      <td>8</td>\n",
       "      <td>0</td>\n",
       "      <td>Yes</td>\n",
       "    </tr>\n",
       "    <tr>\n",
       "      <th>9996</th>\n",
       "      <td>CLG0098</td>\n",
       "      <td>70</td>\n",
       "      <td>9.25</td>\n",
       "      <td>9.34</td>\n",
       "      <td>7</td>\n",
       "      <td>No</td>\n",
       "      <td>0</td>\n",
       "      <td>7</td>\n",
       "      <td>2</td>\n",
       "      <td>No</td>\n",
       "    </tr>\n",
       "    <tr>\n",
       "      <th>9997</th>\n",
       "      <td>CLG0066</td>\n",
       "      <td>89</td>\n",
       "      <td>6.08</td>\n",
       "      <td>6.25</td>\n",
       "      <td>3</td>\n",
       "      <td>Yes</td>\n",
       "      <td>3</td>\n",
       "      <td>9</td>\n",
       "      <td>5</td>\n",
       "      <td>No</td>\n",
       "    </tr>\n",
       "    <tr>\n",
       "      <th>9998</th>\n",
       "      <td>CLG0045</td>\n",
       "      <td>107</td>\n",
       "      <td>8.77</td>\n",
       "      <td>8.92</td>\n",
       "      <td>3</td>\n",
       "      <td>No</td>\n",
       "      <td>7</td>\n",
       "      <td>5</td>\n",
       "      <td>1</td>\n",
       "      <td>No</td>\n",
       "    </tr>\n",
       "    <tr>\n",
       "      <th>9999</th>\n",
       "      <td>CLG0060</td>\n",
       "      <td>109</td>\n",
       "      <td>9.41</td>\n",
       "      <td>9.77</td>\n",
       "      <td>8</td>\n",
       "      <td>No</td>\n",
       "      <td>3</td>\n",
       "      <td>5</td>\n",
       "      <td>5</td>\n",
       "      <td>No</td>\n",
       "    </tr>\n",
       "  </tbody>\n",
       "</table>\n",
       "</div>"
      ],
      "text/plain": [
       "     College_ID   IQ  Prev_Sem_Result  CGPA  Academic_Performance  \\\n",
       "9995    CLG0021  119             8.41  8.29                     4   \n",
       "9996    CLG0098   70             9.25  9.34                     7   \n",
       "9997    CLG0066   89             6.08  6.25                     3   \n",
       "9998    CLG0045  107             8.77  8.92                     3   \n",
       "9999    CLG0060  109             9.41  9.77                     8   \n",
       "\n",
       "     Internship_Experience  Extra_Curricular_Score Communication_Skills  \\\n",
       "9995                    No                       1                    8   \n",
       "9996                    No                       0                    7   \n",
       "9997                   Yes                       3                    9   \n",
       "9998                    No                       7                    5   \n",
       "9999                    No                       3                    5   \n",
       "\n",
       "     Projects_Completed Placement  \n",
       "9995                  0       Yes  \n",
       "9996                  2        No  \n",
       "9997                  5        No  \n",
       "9998                  1        No  \n",
       "9999                  5        No  "
      ]
     },
     "execution_count": 4,
     "metadata": {},
     "output_type": "execute_result"
    }
   ],
   "source": [
    "df.tail()"
   ]
  },
  {
   "cell_type": "code",
   "execution_count": 5,
   "id": "345bd340",
   "metadata": {},
   "outputs": [
    {
     "data": {
      "text/plain": [
       "College_ID                0\n",
       "IQ                        0\n",
       "Prev_Sem_Result           1\n",
       "CGPA                      1\n",
       "Academic_Performance      0\n",
       "Internship_Experience     1\n",
       "Extra_Curricular_Score    0\n",
       "Communication_Skills      0\n",
       "Projects_Completed        2\n",
       "Placement                 6\n",
       "dtype: int64"
      ]
     },
     "execution_count": 5,
     "metadata": {},
     "output_type": "execute_result"
    }
   ],
   "source": [
    "df.isnull().sum()"
   ]
  },
  {
   "cell_type": "code",
   "execution_count": 6,
   "id": "beaf7753",
   "metadata": {},
   "outputs": [
    {
     "data": {
      "text/plain": [
       "np.int64(11)"
      ]
     },
     "execution_count": 6,
     "metadata": {},
     "output_type": "execute_result"
    }
   ],
   "source": [
    "df.isnull().sum().sum()"
   ]
  },
  {
   "cell_type": "code",
   "execution_count": 8,
   "id": "ab6cd2e2",
   "metadata": {},
   "outputs": [
    {
     "data": {
      "text/plain": [
       "College_ID                0\n",
       "IQ                        0\n",
       "Prev_Sem_Result           0\n",
       "CGPA                      0\n",
       "Academic_Performance      0\n",
       "Internship_Experience     0\n",
       "Extra_Curricular_Score    0\n",
       "Communication_Skills      0\n",
       "Projects_Completed        0\n",
       "Placement                 0\n",
       "dtype: int64"
      ]
     },
     "execution_count": 8,
     "metadata": {},
     "output_type": "execute_result"
    }
   ],
   "source": [
    "df.dropna(inplace=True)\n",
    "df.isnull().sum()"
   ]
  },
  {
   "cell_type": "code",
   "execution_count": 7,
   "id": "7eaf5265",
   "metadata": {},
   "outputs": [
    {
     "name": "stdout",
     "output_type": "stream",
     "text": [
      "<class 'pandas.core.frame.DataFrame'>\n",
      "RangeIndex: 10000 entries, 0 to 9999\n",
      "Data columns (total 10 columns):\n",
      " #   Column                  Non-Null Count  Dtype  \n",
      "---  ------                  --------------  -----  \n",
      " 0   College_ID              10000 non-null  object \n",
      " 1   IQ                      10000 non-null  int64  \n",
      " 2   Prev_Sem_Result         9999 non-null   float64\n",
      " 3   CGPA                    9999 non-null   float64\n",
      " 4   Academic_Performance    10000 non-null  int64  \n",
      " 5   Internship_Experience   9999 non-null   object \n",
      " 6   Extra_Curricular_Score  10000 non-null  int64  \n",
      " 7   Communication_Skills    10000 non-null  object \n",
      " 8   Projects_Completed      9998 non-null   object \n",
      " 9   Placement               9994 non-null   object \n",
      "dtypes: float64(2), int64(3), object(5)\n",
      "memory usage: 781.4+ KB\n"
     ]
    }
   ],
   "source": [
    "df.info()"
   ]
  },
  {
   "cell_type": "code",
   "execution_count": 9,
   "id": "6659d1b1",
   "metadata": {},
   "outputs": [],
   "source": [
    "df.drop(columns='College_ID',inplace=True)"
   ]
  },
  {
   "cell_type": "code",
   "execution_count": 10,
   "id": "86653601",
   "metadata": {},
   "outputs": [
    {
     "data": {
      "text/html": [
       "<div>\n",
       "<style scoped>\n",
       "    .dataframe tbody tr th:only-of-type {\n",
       "        vertical-align: middle;\n",
       "    }\n",
       "\n",
       "    .dataframe tbody tr th {\n",
       "        vertical-align: top;\n",
       "    }\n",
       "\n",
       "    .dataframe thead th {\n",
       "        text-align: right;\n",
       "    }\n",
       "</style>\n",
       "<table border=\"1\" class=\"dataframe\">\n",
       "  <thead>\n",
       "    <tr style=\"text-align: right;\">\n",
       "      <th></th>\n",
       "      <th>IQ</th>\n",
       "      <th>Prev_Sem_Result</th>\n",
       "      <th>CGPA</th>\n",
       "      <th>Academic_Performance</th>\n",
       "      <th>Extra_Curricular_Score</th>\n",
       "    </tr>\n",
       "  </thead>\n",
       "  <tbody>\n",
       "    <tr>\n",
       "      <th>count</th>\n",
       "      <td>9991.000000</td>\n",
       "      <td>9991.000000</td>\n",
       "      <td>9991.000000</td>\n",
       "      <td>9991.000000</td>\n",
       "      <td>9991.000000</td>\n",
       "    </tr>\n",
       "    <tr>\n",
       "      <th>mean</th>\n",
       "      <td>99.477029</td>\n",
       "      <td>7.535169</td>\n",
       "      <td>7.531768</td>\n",
       "      <td>5.546492</td>\n",
       "      <td>4.971975</td>\n",
       "    </tr>\n",
       "    <tr>\n",
       "      <th>std</th>\n",
       "      <td>15.049323</td>\n",
       "      <td>1.447526</td>\n",
       "      <td>1.470106</td>\n",
       "      <td>2.873861</td>\n",
       "      <td>3.160000</td>\n",
       "    </tr>\n",
       "    <tr>\n",
       "      <th>min</th>\n",
       "      <td>41.000000</td>\n",
       "      <td>5.000000</td>\n",
       "      <td>4.540000</td>\n",
       "      <td>1.000000</td>\n",
       "      <td>0.000000</td>\n",
       "    </tr>\n",
       "    <tr>\n",
       "      <th>25%</th>\n",
       "      <td>89.000000</td>\n",
       "      <td>6.290000</td>\n",
       "      <td>6.290000</td>\n",
       "      <td>3.000000</td>\n",
       "      <td>2.000000</td>\n",
       "    </tr>\n",
       "    <tr>\n",
       "      <th>50%</th>\n",
       "      <td>99.000000</td>\n",
       "      <td>7.560000</td>\n",
       "      <td>7.550000</td>\n",
       "      <td>6.000000</td>\n",
       "      <td>5.000000</td>\n",
       "    </tr>\n",
       "    <tr>\n",
       "      <th>75%</th>\n",
       "      <td>110.000000</td>\n",
       "      <td>8.785000</td>\n",
       "      <td>8.770000</td>\n",
       "      <td>8.000000</td>\n",
       "      <td>8.000000</td>\n",
       "    </tr>\n",
       "    <tr>\n",
       "      <th>max</th>\n",
       "      <td>158.000000</td>\n",
       "      <td>10.000000</td>\n",
       "      <td>10.460000</td>\n",
       "      <td>10.000000</td>\n",
       "      <td>10.000000</td>\n",
       "    </tr>\n",
       "  </tbody>\n",
       "</table>\n",
       "</div>"
      ],
      "text/plain": [
       "                IQ  Prev_Sem_Result         CGPA  Academic_Performance  \\\n",
       "count  9991.000000      9991.000000  9991.000000           9991.000000   \n",
       "mean     99.477029         7.535169     7.531768              5.546492   \n",
       "std      15.049323         1.447526     1.470106              2.873861   \n",
       "min      41.000000         5.000000     4.540000              1.000000   \n",
       "25%      89.000000         6.290000     6.290000              3.000000   \n",
       "50%      99.000000         7.560000     7.550000              6.000000   \n",
       "75%     110.000000         8.785000     8.770000              8.000000   \n",
       "max     158.000000        10.000000    10.460000             10.000000   \n",
       "\n",
       "       Extra_Curricular_Score  \n",
       "count             9991.000000  \n",
       "mean                 4.971975  \n",
       "std                  3.160000  \n",
       "min                  0.000000  \n",
       "25%                  2.000000  \n",
       "50%                  5.000000  \n",
       "75%                  8.000000  \n",
       "max                 10.000000  "
      ]
     },
     "execution_count": 10,
     "metadata": {},
     "output_type": "execute_result"
    }
   ],
   "source": [
    "df.describe()"
   ]
  },
  {
   "cell_type": "code",
   "execution_count": 11,
   "id": "79214ed2",
   "metadata": {},
   "outputs": [
    {
     "name": "stdout",
     "output_type": "stream",
     "text": [
      "<class 'pandas.core.frame.DataFrame'>\n",
      "Index: 9991 entries, 0 to 9999\n",
      "Data columns (total 9 columns):\n",
      " #   Column                  Non-Null Count  Dtype  \n",
      "---  ------                  --------------  -----  \n",
      " 0   IQ                      9991 non-null   int64  \n",
      " 1   Prev_Sem_Result         9991 non-null   float64\n",
      " 2   CGPA                    9991 non-null   float64\n",
      " 3   Academic_Performance    9991 non-null   int64  \n",
      " 4   Internship_Experience   9991 non-null   object \n",
      " 5   Extra_Curricular_Score  9991 non-null   int64  \n",
      " 6   Communication_Skills    9991 non-null   int64  \n",
      " 7   Projects_Completed      9991 non-null   int64  \n",
      " 8   Placement               9991 non-null   object \n",
      "dtypes: float64(2), int64(5), object(2)\n",
      "memory usage: 780.5+ KB\n"
     ]
    }
   ],
   "source": [
    "from sklearn.preprocessing import LabelEncoder\n",
    "le=LabelEncoder()\n",
    "df['Communication_Skills']=le.fit_transform(df['Communication_Skills'])\n",
    "df['Projects_Completed']=le.fit_transform(df['Projects_Completed'])\n",
    "df.info()"
   ]
  },
  {
   "cell_type": "markdown",
   "id": "7aea0033",
   "metadata": {},
   "source": [
    "PLOTS"
   ]
  },
  {
   "cell_type": "code",
   "execution_count": null,
   "id": "f08e5241",
   "metadata": {},
   "outputs": [
    {
     "data": {
      "image/png": "[encoded data removed]",
      "text/plain": [
       "<Figure size 500x600 with 1 Axes>"
      ]
     },
     "metadata": {},
     "output_type": "display_data"
    }
   ],
   "source": [
    "import matplotlib.pyplot as plt\n",
    "import seaborn as sns\n",
    "plt.figure(figsize=(5,6))\n",
    "sns.histplot(df['IQ'],kde=True,color='darkblue')\n",
    "plt.title('Histogram for IQ of the Students')\n",
    "plt.show()\n",
    "#It shows normal distribution"
   ]
  },
  {
   "cell_type": "code",
   "execution_count": 19,
   "id": "888096e0",
   "metadata": {},
   "outputs": [
    {
     "data": {
      "text/plain": [
       "array(['No', 'Yes'], dtype=object)"
      ]
     },
     "execution_count": 19,
     "metadata": {},
     "output_type": "execute_result"
    }
   ],
   "source": [
    "df['Placement'].unique()"
   ]
  },
  {
   "cell_type": "code",
   "execution_count": null,
   "id": "33f74ca9",
   "metadata": {},
   "outputs": [
    {
     "data": {
      "image/png": "[encoded data removed]",
      "text/plain": [
       "<Figure size 640x480 with 1 Axes>"
      ]
     },
     "metadata": {},
     "output_type": "display_data"
    }
   ],
   "source": [
    "pie=df['Placement'].value_counts()\n",
    "plt.pie(pie,labels=['Yes','No'],autopct='%1.1f%%',colors=['red','blue'],startangle=180)\n",
    "plt.title('Placement percentage of the Students')\n",
    "plt.show()\n",
    "#This graph shows more students placed in interview"
   ]
  },
  {
   "cell_type": "code",
   "execution_count": 24,
   "id": "852818cc",
   "metadata": {},
   "outputs": [
    {
     "data": {
      "image/png": "[encoded data removed]",
      "text/plain": [
       "<Figure size 640x480 with 1 Axes>"
      ]
     },
     "metadata": {},
     "output_type": "display_data"
    }
   ],
   "source": [
    "sns.barplot(data=df,x='Placement',y='IQ',color='darkblue')\n",
    "plt.title('Comparing placement and IQ')\n",
    "plt.show()\n",
    "#This shows placed students had more than 100 IQ"
   ]
  },
  {
   "cell_type": "code",
   "execution_count": null,
   "id": "de9a6ea0",
   "metadata": {},
   "outputs": [
    {
     "name": "stderr",
     "output_type": "stream",
     "text": [
      "C:\\Users\\dines\\AppData\\Local\\Temp\\ipykernel_27556\\1883573892.py:2: FutureWarning: \n",
      "\n",
      "Setting a gradient palette using color= is deprecated and will be removed in v0.14.0. Set `palette='dark:red'` for the same effect.\n",
      "\n",
      "  sns.violinplot(data=df,x='Placement',y='CGPA',hue='Internship_Experience',color='red',split=True)\n"
     ]
    },
    {
     "data": {
      "image/png": "[encoded data removed]",
      "text/plain": [
       "<Figure size 500x600 with 1 Axes>"
      ]
     },
     "metadata": {},
     "output_type": "display_data"
    }
   ],
   "source": [
    "plt.figure(figsize=(5,6))\n",
    "sns.violinplot(data=df,x='Placement',y='CGPA',hue='Internship_Experience',color='red',split=True)\n",
    "plt.title('Comparing placement and CGPA with Internship Experience')\n",
    "plt.show()\n",
    "#This graph shows maximum placed students got 8-10 percentage CGPA equally with or without internship experience."
   ]
  },
  {
   "cell_type": "code",
   "execution_count": 41,
   "id": "7ae81d31",
   "metadata": {},
   "outputs": [
    {
     "name": "stdout",
     "output_type": "stream",
     "text": [
      "<class 'pandas.core.frame.DataFrame'>\n",
      "Index: 9991 entries, 0 to 9999\n",
      "Data columns (total 9 columns):\n",
      " #   Column                  Non-Null Count  Dtype  \n",
      "---  ------                  --------------  -----  \n",
      " 0   IQ                      9991 non-null   int64  \n",
      " 1   Prev_Sem_Result         9991 non-null   float64\n",
      " 2   CGPA                    9991 non-null   float64\n",
      " 3   Academic_Performance    9991 non-null   int64  \n",
      " 4   Internship_Experience   9991 non-null   int64  \n",
      " 5   Extra_Curricular_Score  9991 non-null   int64  \n",
      " 6   Communication_Skills    9991 non-null   int64  \n",
      " 7   Projects_Completed      9991 non-null   int64  \n",
      " 8   Placement               9991 non-null   int64  \n",
      "dtypes: float64(2), int64(7)\n",
      "memory usage: 780.5 KB\n"
     ]
    }
   ],
   "source": [
    "from sklearn.preprocessing import LabelEncoder\n",
    "le=LabelEncoder()\n",
    "df['Internship_Experience']=le.fit_transform(df['Internship_Experience'])\n",
    "df['Placement']=le.fit_transform(df['Placement'])\n",
    "df.info()"
   ]
  },
  {
   "cell_type": "code",
   "execution_count": 42,
   "id": "94bf2a28",
   "metadata": {},
   "outputs": [
    {
     "data": {
      "text/plain": [
       "np.int64(0)"
      ]
     },
     "execution_count": 42,
     "metadata": {},
     "output_type": "execute_result"
    }
   ],
   "source": [
    "df.duplicated().sum()"
   ]
  },
  {
   "cell_type": "markdown",
   "id": "724b0413",
   "metadata": {},
   "source": [
    "FIT MODEL"
   ]
  },
  {
   "cell_type": "code",
   "execution_count": 43,
   "id": "190e2366",
   "metadata": {},
   "outputs": [
    {
     "data": {
      "text/html": [
       "<div>\n",
       "<style scoped>\n",
       "    .dataframe tbody tr th:only-of-type {\n",
       "        vertical-align: middle;\n",
       "    }\n",
       "\n",
       "    .dataframe tbody tr th {\n",
       "        vertical-align: top;\n",
       "    }\n",
       "\n",
       "    .dataframe thead th {\n",
       "        text-align: right;\n",
       "    }\n",
       "</style>\n",
       "<table border=\"1\" class=\"dataframe\">\n",
       "  <thead>\n",
       "    <tr style=\"text-align: right;\">\n",
       "      <th></th>\n",
       "      <th>IQ</th>\n",
       "      <th>Prev_Sem_Result</th>\n",
       "      <th>CGPA</th>\n",
       "      <th>Academic_Performance</th>\n",
       "      <th>Internship_Experience</th>\n",
       "      <th>Extra_Curricular_Score</th>\n",
       "      <th>Communication_Skills</th>\n",
       "      <th>Projects_Completed</th>\n",
       "    </tr>\n",
       "  </thead>\n",
       "  <tbody>\n",
       "    <tr>\n",
       "      <th>0</th>\n",
       "      <td>107</td>\n",
       "      <td>6.61</td>\n",
       "      <td>6.28</td>\n",
       "      <td>8</td>\n",
       "      <td>0</td>\n",
       "      <td>8</td>\n",
       "      <td>8</td>\n",
       "      <td>4</td>\n",
       "    </tr>\n",
       "    <tr>\n",
       "      <th>1</th>\n",
       "      <td>97</td>\n",
       "      <td>5.52</td>\n",
       "      <td>5.37</td>\n",
       "      <td>8</td>\n",
       "      <td>0</td>\n",
       "      <td>7</td>\n",
       "      <td>8</td>\n",
       "      <td>0</td>\n",
       "    </tr>\n",
       "    <tr>\n",
       "      <th>2</th>\n",
       "      <td>109</td>\n",
       "      <td>5.36</td>\n",
       "      <td>5.83</td>\n",
       "      <td>9</td>\n",
       "      <td>0</td>\n",
       "      <td>3</td>\n",
       "      <td>0</td>\n",
       "      <td>1</td>\n",
       "    </tr>\n",
       "    <tr>\n",
       "      <th>4</th>\n",
       "      <td>96</td>\n",
       "      <td>7.91</td>\n",
       "      <td>7.69</td>\n",
       "      <td>7</td>\n",
       "      <td>0</td>\n",
       "      <td>8</td>\n",
       "      <td>1</td>\n",
       "      <td>2</td>\n",
       "    </tr>\n",
       "    <tr>\n",
       "      <th>5</th>\n",
       "      <td>96</td>\n",
       "      <td>5.26</td>\n",
       "      <td>5.32</td>\n",
       "      <td>7</td>\n",
       "      <td>0</td>\n",
       "      <td>5</td>\n",
       "      <td>8</td>\n",
       "      <td>0</td>\n",
       "    </tr>\n",
       "    <tr>\n",
       "      <th>...</th>\n",
       "      <td>...</td>\n",
       "      <td>...</td>\n",
       "      <td>...</td>\n",
       "      <td>...</td>\n",
       "      <td>...</td>\n",
       "      <td>...</td>\n",
       "      <td>...</td>\n",
       "      <td>...</td>\n",
       "    </tr>\n",
       "    <tr>\n",
       "      <th>9995</th>\n",
       "      <td>119</td>\n",
       "      <td>8.41</td>\n",
       "      <td>8.29</td>\n",
       "      <td>4</td>\n",
       "      <td>0</td>\n",
       "      <td>1</td>\n",
       "      <td>8</td>\n",
       "      <td>0</td>\n",
       "    </tr>\n",
       "    <tr>\n",
       "      <th>9996</th>\n",
       "      <td>70</td>\n",
       "      <td>9.25</td>\n",
       "      <td>9.34</td>\n",
       "      <td>7</td>\n",
       "      <td>0</td>\n",
       "      <td>0</td>\n",
       "      <td>7</td>\n",
       "      <td>2</td>\n",
       "    </tr>\n",
       "    <tr>\n",
       "      <th>9997</th>\n",
       "      <td>89</td>\n",
       "      <td>6.08</td>\n",
       "      <td>6.25</td>\n",
       "      <td>3</td>\n",
       "      <td>1</td>\n",
       "      <td>3</td>\n",
       "      <td>9</td>\n",
       "      <td>5</td>\n",
       "    </tr>\n",
       "    <tr>\n",
       "      <th>9998</th>\n",
       "      <td>107</td>\n",
       "      <td>8.77</td>\n",
       "      <td>8.92</td>\n",
       "      <td>3</td>\n",
       "      <td>0</td>\n",
       "      <td>7</td>\n",
       "      <td>5</td>\n",
       "      <td>1</td>\n",
       "    </tr>\n",
       "    <tr>\n",
       "      <th>9999</th>\n",
       "      <td>109</td>\n",
       "      <td>9.41</td>\n",
       "      <td>9.77</td>\n",
       "      <td>8</td>\n",
       "      <td>0</td>\n",
       "      <td>3</td>\n",
       "      <td>5</td>\n",
       "      <td>5</td>\n",
       "    </tr>\n",
       "  </tbody>\n",
       "</table>\n",
       "<p>9991 rows × 8 columns</p>\n",
       "</div>"
      ],
      "text/plain": [
       "       IQ  Prev_Sem_Result  CGPA  Academic_Performance  Internship_Experience  \\\n",
       "0     107             6.61  6.28                     8                      0   \n",
       "1      97             5.52  5.37                     8                      0   \n",
       "2     109             5.36  5.83                     9                      0   \n",
       "4      96             7.91  7.69                     7                      0   \n",
       "5      96             5.26  5.32                     7                      0   \n",
       "...   ...              ...   ...                   ...                    ...   \n",
       "9995  119             8.41  8.29                     4                      0   \n",
       "9996   70             9.25  9.34                     7                      0   \n",
       "9997   89             6.08  6.25                     3                      1   \n",
       "9998  107             8.77  8.92                     3                      0   \n",
       "9999  109             9.41  9.77                     8                      0   \n",
       "\n",
       "      Extra_Curricular_Score  Communication_Skills  Projects_Completed  \n",
       "0                          8                     8                   4  \n",
       "1                          7                     8                   0  \n",
       "2                          3                     0                   1  \n",
       "4                          8                     1                   2  \n",
       "5                          5                     8                   0  \n",
       "...                      ...                   ...                 ...  \n",
       "9995                       1                     8                   0  \n",
       "9996                       0                     7                   2  \n",
       "9997                       3                     9                   5  \n",
       "9998                       7                     5                   1  \n",
       "9999                       3                     5                   5  \n",
       "\n",
       "[9991 rows x 8 columns]"
      ]
     },
     "execution_count": 43,
     "metadata": {},
     "output_type": "execute_result"
    }
   ],
   "source": [
    "x=df.drop(['Placement'],axis=1)\n",
    "y=df['Placement']\n",
    "x"
   ]
  },
  {
   "cell_type": "code",
   "execution_count": 44,
   "id": "6b45a21b",
   "metadata": {},
   "outputs": [
    {
     "data": {
      "text/plain": [
       "0       0\n",
       "1       0\n",
       "2       0\n",
       "4       0\n",
       "5       0\n",
       "       ..\n",
       "9995    1\n",
       "9996    0\n",
       "9997    0\n",
       "9998    0\n",
       "9999    0\n",
       "Name: Placement, Length: 9991, dtype: int64"
      ]
     },
     "execution_count": 44,
     "metadata": {},
     "output_type": "execute_result"
    }
   ],
   "source": [
    "y"
   ]
  },
  {
   "cell_type": "markdown",
   "id": "6b54a22d",
   "metadata": {},
   "source": [
    " USING STANDARDSCALER FOR NORMALISATION"
   ]
  },
  {
   "cell_type": "code",
   "execution_count": 45,
   "id": "92ddb0ea",
   "metadata": {},
   "outputs": [
    {
     "data": {
      "text/plain": [
       "array([[ 0.49991266, -0.63916973, -0.85152392, ...,  0.95828375,\n",
       "         1.22166254,  0.86613444],\n",
       "       [-0.16460231, -1.39221623, -1.47055798, ...,  0.64181223,\n",
       "         1.22166254, -1.4643171 ],\n",
       "       [ 0.63281565, -1.50275517, -1.15763966, ..., -0.62407386,\n",
       "        -1.54833103, -0.88170422],\n",
       "       ...,\n",
       "       [-0.69621428, -1.00532996, -0.87193164, ..., -0.62407386,\n",
       "         1.56791173,  1.44874733],\n",
       "       [ 0.49991266,  0.85310589,  0.9443551 , ...,  0.64181223,\n",
       "         0.18291495, -0.88170422],\n",
       "       [ 0.63281565,  1.29526163,  1.52257372, ..., -0.62407386,\n",
       "         0.18291495,  1.44874733]], shape=(9991, 8))"
      ]
     },
     "execution_count": 45,
     "metadata": {},
     "output_type": "execute_result"
    }
   ],
   "source": [
    "from sklearn.preprocessing import StandardScaler\n",
    "st=StandardScaler()\n",
    "x=st.fit_transform(x)\n",
    "x"
   ]
  },
  {
   "cell_type": "markdown",
   "id": "9ee9dc12",
   "metadata": {},
   "source": [
    "PREDICT MODEL"
   ]
  },
  {
   "cell_type": "code",
   "execution_count": 46,
   "id": "2f0a2d22",
   "metadata": {},
   "outputs": [
    {
     "name": "stdout",
     "output_type": "stream",
     "text": [
      "[[6403  285]\n",
      " [ 717  587]]\n",
      "              precision    recall  f1-score   support\n",
      "\n",
      "           0       0.90      0.96      0.93      6688\n",
      "           1       0.67      0.45      0.54      1304\n",
      "\n",
      "    accuracy                           0.87      7992\n",
      "   macro avg       0.79      0.70      0.73      7992\n",
      "weighted avg       0.86      0.87      0.86      7992\n",
      "\n",
      "0.8746246246246246\n"
     ]
    }
   ],
   "source": [
    "from sklearn.model_selection import train_test_split\n",
    "x_test,x_train,y_test,y_train=train_test_split(x,y,random_state=42,test_size=0.2)\n",
    "from sklearn.linear_model import LogisticRegression\n",
    "model=LogisticRegression()\n",
    "model.fit(x_train,y_train)                      #this is for train\n",
    "y_pred=model.predict(x_test)\n",
    "from sklearn.metrics import accuracy_score,classification_report,confusion_matrix\n",
    "print(confusion_matrix(y_test,y_pred))\n",
    "print(classification_report(y_test,y_pred))          \n",
    "print(accuracy_score(y_test,y_pred))"
   ]
  },
  {
   "cell_type": "code",
   "execution_count": 47,
   "id": "4b97b851",
   "metadata": {},
   "outputs": [
    {
     "name": "stdout",
     "output_type": "stream",
     "text": [
      "[[6445  243]\n",
      " [ 751  553]]\n",
      "              precision    recall  f1-score   support\n",
      "\n",
      "           0       0.90      0.96      0.93      6688\n",
      "           1       0.69      0.42      0.53      1304\n",
      "\n",
      "    accuracy                           0.88      7992\n",
      "   macro avg       0.80      0.69      0.73      7992\n",
      "weighted avg       0.86      0.88      0.86      7992\n",
      "\n",
      "0.8756256256256256\n"
     ]
    }
   ],
   "source": [
    "x_test,x_train,y_test,y_train=train_test_split(x,y,random_state=42,test_size=0.2)\n",
    "from sklearn.linear_model import LogisticRegression\n",
    "model=LogisticRegression()\n",
    "model.fit(x_test,y_test)                   \n",
    "y_pred=model.predict(x_test)                 #this is for test\n",
    "from sklearn.metrics import accuracy_score,classification_report,confusion_matrix\n",
    "print(confusion_matrix(y_test,y_pred))\n",
    "print(classification_report(y_test,y_pred))          \n",
    "print(accuracy_score(y_test,y_pred))"
   ]
  },
  {
   "cell_type": "markdown",
   "id": "c2788b4f",
   "metadata": {},
   "source": [
    "THIS IS GENERALISED FIT"
   ]
  }
 ],
 "metadata": {
  "kernelspec": {
   "display_name": ".venv",
   "language": "python",
   "name": "python3"
  },
  "language_info": {
   "codemirror_mode": {
    "name": "ipython",
    "version": 3
   },
   "file_extension": ".py",
   "mimetype": "text/x-python",
   "name": "python",
   "nbconvert_exporter": "python",
   "pygments_lexer": "ipython3",
   "version": "3.13.5"
  }
 },
 "nbformat": 4,
 "nbformat_minor": 5
}
